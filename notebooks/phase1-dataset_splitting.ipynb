{
 "cells": [
  {
   "cell_type": "code",
   "execution_count": null,
   "id": "119f3abd-f42a-46b3-bfd6-7e2fc4b946b0",
   "metadata": {},
   "outputs": [],
   "source": [
    "import sys\n",
    "import os\n",
    "from pathlib import Path\n",
    "import json\n",
    "import random\n",
    "import numpy as np"
   ]
  },
  {
   "cell_type": "code",
   "execution_count": null,
   "id": "aecc743f-23ab-4d12-b16c-c19e519ead9a",
   "metadata": {},
   "outputs": [],
   "source": [
    "CURATED_ANN_PATH = \"../Data/ldsi_w21_curated_annotations_v2.json\"\n",
    "with open(CURATED_ANN_PATH, 'r') as j:\n",
    "     data = json.loads(j.read())"
   ]
  },
  {
   "cell_type": "code",
   "execution_count": null,
   "id": "aa6ea644",
   "metadata": {},
   "outputs": [],
   "source": [
    "annotations = data['annotations']\n",
    "documents_by_id = {d['_id']: d for d in data['documents']}\n",
    "types_by_id = {t['_id']: t for t in data['types']}\n",
    "type_ids_by_name = {t['name']: t['_id'] for t in data['types']}\n",
    "type_names_by_id = {t['_id']: t['name'] for t in data['types']}\n",
    "doc_id_by_name = {d['name']: d['_id'] for d in data['documents']}\n",
    "doc_name_by_id = {d['_id']: d['name'] for d in data['documents']}"
   ]
  },
  {
   "cell_type": "code",
   "execution_count": null,
   "id": "d91a6519",
   "metadata": {},
   "outputs": [],
   "source": [
    "granted_doc_ids = set([doc['_id'] for doc in data['documents'] if doc['outcome'] == 'granted'])\n",
    "denied_doc_ids = set([doc['_id'] for doc in data['documents'] if doc['outcome'] == 'denied'])\n",
    "print(len(granted_doc_ids), len(denied_doc_ids))"
   ]
  },
  {
   "cell_type": "code",
   "execution_count": null,
   "id": "15df4324-1f05-4fd0-aa96-36b2ff26ad1a",
   "metadata": {},
   "outputs": [],
   "source": [
    "# Filter out the IDs of the 141 documents from a total of 540\n",
    "ids_annotated_docs = set([ann['document'] for ann in data['annotations']])\n",
    "print(len(ids_annotated_docs))"
   ]
  },
  {
   "cell_type": "code",
   "execution_count": null,
   "id": "2967697a-1717-4ce1-b80c-41d7a6772731",
   "metadata": {},
   "outputs": [],
   "source": [
    "granted_ids = sorted(list(granted_doc_ids.intersection(ids_annotated_docs)))\n",
    "denied_ids = sorted(list(denied_doc_ids.intersection(ids_annotated_docs)))\n",
    "print(len(granted_ids), len(denied_ids))"
   ]
  },
  {
   "cell_type": "code",
   "execution_count": null,
   "id": "cd491d0b",
   "metadata": {},
   "outputs": [],
   "source": [
    "os.environ['PYTHONHASHSEED'] = str(42)\n",
    "random.seed(42)\n",
    "np.random.seed(42)\n",
    "\n",
    "\n",
    "random.shuffle(granted_ids)\n",
    "random.shuffle(denied_ids)\n",
    "granted_train, granted_val, granted_test = np.split(granted_ids, [int(len(granted_ids)*0.8), int(len(granted_ids)*0.9)])\n",
    "denied_train, denied_val, denied_test = np.split(denied_ids, [57, 64])"
   ]
  },
  {
   "cell_type": "code",
   "execution_count": null,
   "id": "f117a20d",
   "metadata": {},
   "outputs": [],
   "source": [
    "train_set, dev_set, test_set = np.concatenate((granted_train, denied_train), axis=0), \\\n",
    "                                np.concatenate((granted_val, denied_val), axis=0), \\\n",
    "                                    np.concatenate((granted_test, denied_test), axis=0), \\\n",
    "\n",
    "print(train_set.shape, dev_set.shape, test_set.shape)"
   ]
  },
  {
   "cell_type": "code",
   "execution_count": null,
   "id": "1733d283",
   "metadata": {
    "scrolled": true
   },
   "outputs": [],
   "source": [
    "dev_set, test_set"
   ]
  },
  {
   "cell_type": "code",
   "execution_count": null,
   "id": "a2529eec",
   "metadata": {},
   "outputs": [],
   "source": [
    "print(\"Dev set case ids:\")\n",
    "for did in dev_set:\n",
    "    print(doc_name_by_id[did], end=\"\\n\")\n",
    "print(\"\\nTest set case ids:\")    \n",
    "for did in test_set:\n",
    "    print(doc_name_by_id[did], end=\"\\n\")"
   ]
  },
  {
   "cell_type": "code",
   "execution_count": null,
   "id": "c69a9a05",
   "metadata": {},
   "outputs": [],
   "source": [
    "# SAVE_PATH = Path('../Data/')\n",
    "\n",
    "# np.save(SAVE_PATH/'train.npy', train_set)\n",
    "# np.save(SAVE_PATH/'dev.npy', dev_set)\n",
    "# np.save(SAVE_PATH/'test.npy', test_set)"
   ]
  }
 ],
 "metadata": {
  "kernelspec": {
   "display_name": "Python 3",
   "language": "python",
   "name": "python3"
  },
  "language_info": {
   "codemirror_mode": {
    "name": "ipython",
    "version": 3
   },
   "file_extension": ".py",
   "mimetype": "text/x-python",
   "name": "python",
   "nbconvert_exporter": "python",
   "pygments_lexer": "ipython3",
   "version": "3.6.9"
  }
 },
 "nbformat": 4,
 "nbformat_minor": 5
}
