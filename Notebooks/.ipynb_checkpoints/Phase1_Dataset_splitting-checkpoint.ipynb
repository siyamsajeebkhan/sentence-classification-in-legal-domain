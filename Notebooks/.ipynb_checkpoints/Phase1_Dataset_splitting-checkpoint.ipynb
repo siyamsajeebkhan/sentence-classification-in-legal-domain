{
 "cells": [
  {
   "cell_type": "code",
   "execution_count": 19,
   "id": "119f3abd-f42a-46b3-bfd6-7e2fc4b946b0",
   "metadata": {},
   "outputs": [],
   "source": [
    "import sys\n",
    "sys.path.append(r\"C:\\Users\\siyam\\OneDrive\\Desktop\\Legal DS\\project\\venv\\Lib\\site-packages\")\n",
    "import os\n",
    "from pathlib import Path\n",
    "import json\n",
    "import random\n",
    "import numpy as np"
   ]
  },
  {
   "cell_type": "code",
   "execution_count": 20,
   "id": "aecc743f-23ab-4d12-b16c-c19e519ead9a",
   "metadata": {},
   "outputs": [],
   "source": [
    "CURATED_ANN_PATH = \"../Data/ldsi_w2021-20220221T223611Z-001/ldsi_w2021/ldsi_w21_curated_annotations_v2.json\""
   ]
  },
  {
   "cell_type": "code",
   "execution_count": 21,
   "id": "c53002ae-1c46-4554-a626-b95d42ca1d46",
   "metadata": {},
   "outputs": [],
   "source": [
    "# Reading the JSON file\n",
    "with open(CURATED_ANN_PATH, 'r') as j:\n",
    "     curated_annotations = json.loads(j.read())"
   ]
  },
  {
   "cell_type": "code",
   "execution_count": 22,
   "id": "d91a6519",
   "metadata": {},
   "outputs": [
    {
     "name": "stdout",
     "output_type": "stream",
     "text": [
      "180 180\n"
     ]
    }
   ],
   "source": [
    "granted_doc_ids = set([doc['_id'] for doc in curated_annotations['documents'] if doc['outcome'] == 'granted'])\n",
    "denied_doc_ids = set([doc['_id'] for doc in curated_annotations['documents'] if doc['outcome'] == 'denied'])\n",
    "print(len(granted_doc_ids), len(denied_doc_ids))"
   ]
  },
  {
   "cell_type": "code",
   "execution_count": 23,
   "id": "15df4324-1f05-4fd0-aa96-36b2ff26ad1a",
   "metadata": {},
   "outputs": [
    {
     "name": "stdout",
     "output_type": "stream",
     "text": [
      "141\n"
     ]
    }
   ],
   "source": [
    "# Filter out the IDs of the 141 documents from a total of 540\n",
    "ids_annotated_docs = set([ann['document'] for ann in curated_annotations['annotations']])\n",
    "print(len(ids_annotated_docs))"
   ]
  },
  {
   "cell_type": "code",
   "execution_count": 24,
   "id": "2967697a-1717-4ce1-b80c-41d7a6772731",
   "metadata": {},
   "outputs": [
    {
     "name": "stdout",
     "output_type": "stream",
     "text": [
      "70 71\n"
     ]
    }
   ],
   "source": [
    "granted_ids = sorted(list(granted_doc_ids.intersection(ids_annotated_docs)))\n",
    "denied_ids = sorted(list(denied_doc_ids.intersection(ids_annotated_docs)))\n",
    "print(len(granted_ids), len(denied_ids))"
   ]
  },
  {
   "cell_type": "code",
   "execution_count": 25,
   "id": "cd491d0b",
   "metadata": {},
   "outputs": [],
   "source": [
    "os.environ['PYTHONHASHSEED'] = str(42)\n",
    "random.seed(42)\n",
    "np.random.seed(42)\n",
    "\n",
    "\n",
    "random.shuffle(granted_ids)\n",
    "random.shuffle(denied_ids)\n",
    "granted_train, granted_val, granted_test = np.split(granted_ids, [int(len(granted_ids)*0.8), int(len(granted_ids)*0.9)])\n",
    "denied_train, denied_val, denied_test = np.split(denied_ids, [57, 64])"
   ]
  },
  {
   "cell_type": "code",
   "execution_count": 26,
   "id": "f117a20d",
   "metadata": {},
   "outputs": [
    {
     "name": "stdout",
     "output_type": "stream",
     "text": [
      "(113,) (14,) (14,)\n"
     ]
    }
   ],
   "source": [
    "train_set, dev_set, test_set = np.concatenate((granted_train, denied_train), axis=0), \\\n",
    "                                np.concatenate((granted_val, denied_val), axis=0), \\\n",
    "                                    np.concatenate((granted_test, denied_test), axis=0), \\\n",
    "\n",
    "print(train_set.shape, dev_set.shape, test_set.shape)"
   ]
  },
  {
   "cell_type": "code",
   "execution_count": 27,
   "id": "c69a9a05",
   "metadata": {},
   "outputs": [],
   "source": [
    "SAVE_PATH = Path('../Data/')\n",
    "\n",
    "np.save(SAVE_PATH/'train.npy', train_set)\n",
    "np.save(SAVE_PATH/'dev.npy', val_set)\n",
    "np.save(SAVE_PATH/'test.npy', test_set)"
   ]
  },
  {
   "cell_type": "code",
   "execution_count": null,
   "id": "876462a6-9098-4cf7-869e-526adb04ad09",
   "metadata": {},
   "outputs": [],
   "source": []
  }
 ],
 "metadata": {
  "kernelspec": {
   "display_name": "venv",
   "language": "python",
   "name": "venv"
  },
  "language_info": {
   "codemirror_mode": {
    "name": "ipython",
    "version": 3
   },
   "file_extension": ".py",
   "mimetype": "text/x-python",
   "name": "python",
   "nbconvert_exporter": "python",
   "pygments_lexer": "ipython3",
   "version": "3.10.0"
  }
 },
 "nbformat": 4,
 "nbformat_minor": 5
}
