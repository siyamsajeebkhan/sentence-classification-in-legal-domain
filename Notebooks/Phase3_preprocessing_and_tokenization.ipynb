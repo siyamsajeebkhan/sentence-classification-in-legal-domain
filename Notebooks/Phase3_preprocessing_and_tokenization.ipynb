{
 "cells": [
  {
   "cell_type": "code",
   "execution_count": 1,
   "id": "f2388e92",
   "metadata": {},
   "outputs": [],
   "source": [
    "import sys\n",
    "sys.path.append(r\"C:\\Users\\siyam\\OneDrive\\Desktop\\Legal DS\\project\\venv\\Lib\\site-packages\")\n",
    "import os\n",
    "from pathlib import Path\n",
    "import json\n",
    "import random\n",
    "import numpy as np\n",
    "import spacy\n",
    "\n",
    "\n",
    "from tqdm import tqdm\n",
    "import spacy\n",
    "import json\n",
    "import random\n",
    "import re\n",
    "import pandas as pd\n",
    "import numpy as np\n",
    "from copy import deepcopy\n",
    "from sklearn import model_selection\n",
    "from spacy.tokenizer import Tokenizer\n",
    "from spacy.lang.en import English\n",
    "from spacy.symbols import ORTH\n",
    "from sklearn.feature_extraction import DictVectorizer\n",
    "from sklearn.feature_extraction.text import TfidfVectorizer\n",
    "from sklearn.svm import SVC\n",
    "from sklearn.ensemble import RandomForestClassifier\n",
    "from sklearn.naive_bayes import GaussianNB\n",
    "from sklearn.metrics import classification_report, confusion_matrix\n",
    "from sklearn import tree\n",
    "import matplotlib.pyplot as plt\n",
    "from spacy.language import Language\n",
    "from luima_sbd import sbd_utils as luima\n",
    "import seaborn as sns\n",
    "import plotly.express as px\n",
    "import math\n",
    "%matplotlib inline"
   ]
  },
  {
   "cell_type": "markdown",
   "id": "3d7d6b82",
   "metadata": {},
   "source": [
    "# Phase 3.1: Splitting the unlabeled data"
   ]
  },
  {
   "cell_type": "code",
   "execution_count": 2,
   "id": "a245f496",
   "metadata": {},
   "outputs": [
    {
     "data": {
      "text/plain": [
       "30000"
      ]
     },
     "execution_count": 2,
     "metadata": {},
     "output_type": "execute_result"
    }
   ],
   "source": [
    "UNLABELED_DATA_PATH = Path(\"../Data/ldsi_w2021-20220221T223611Z-001/ldsi_w2021/unlabeled/unlabeled\")\n",
    "files = sorted(os.listdir(UNLABELED_DATA_PATH))\n",
    "len(files)"
   ]
  },
  {
   "cell_type": "code",
   "execution_count": 3,
   "id": "0158e2b9",
   "metadata": {},
   "outputs": [
    {
     "data": {
      "text/plain": [
       "134"
      ]
     },
     "execution_count": 3,
     "metadata": {},
     "output_type": "execute_result"
    }
   ],
   "source": [
    "test_file = open(UNLABELED_DATA_PATH/ Path('0603946.txt'), 'r').read().encode('latin-1', 'ignore')\n",
    "test_file = test_file.decode('latin-1').strip()\n",
    "len(luima.text2sentences(test_file, offsets=False))"
   ]
  },
  {
   "cell_type": "code",
   "execution_count": 4,
   "id": "7fe89091",
   "metadata": {},
   "outputs": [
    {
     "data": {
      "text/plain": [
       "135"
      ]
     },
     "execution_count": 4,
     "metadata": {},
     "output_type": "execute_result"
    }
   ],
   "source": [
    "test_file = open(UNLABELED_DATA_PATH/ Path('0603946.txt'), 'r').read()\n",
    "arr = bytes(test_file, 'utf-8')\n",
    "arr = arr.decode('latin-1').strip()\n",
    "len(luima.text2sentences(arr, offsets=False))"
   ]
  },
  {
   "cell_type": "code",
   "execution_count": 5,
   "id": "ad9ac515",
   "metadata": {},
   "outputs": [],
   "source": [
    "# unlab_segments_by_doc = []\n",
    "# for file in tqdm(files):\n",
    "#     text = open(UNLABELED_DATA_PATH/file).read()\n",
    "#     byte_text = bytes(text, 'utf-8')\n",
    "#     text = byte_text.decode('latin-1').strip()\n",
    "    \n",
    "#     doc = luima.text2sentences(text, offsets=False)\n",
    "    \n",
    "#     seg_data = {\n",
    "#         'doc_name': file,\n",
    "#         'no_of_sentences': len(doc),\n",
    "# #         'sentences': doc\n",
    "#     }\n",
    "#     unlab_segments_by_doc.append(seg_data)\n",
    "\n",
    "# import pickle\n",
    "# with open(Path('../Data/')/'unlab_segments_by_doc', 'wb') as handle:\n",
    "#     pickle.dump(unlab_segments_by_doc, handle)\n",
    "\n",
    "# total_sentences = 0\n",
    "# for seg in unlab_segments_by_doc:\n",
    "#     total_sentences += seg['no_of_sentences']"
   ]
  },
  {
   "cell_type": "code",
   "execution_count": 6,
   "id": "88d4b401",
   "metadata": {},
   "outputs": [],
   "source": [
    "import pickle\n",
    "with open(Path('../Data/')/'unlab_segments_by_doc', 'rb') as handle:\n",
    "    unlab_segments_by_doc = pickle.load(handle)"
   ]
  },
  {
   "cell_type": "code",
   "execution_count": 7,
   "id": "f67c30ce",
   "metadata": {},
   "outputs": [
    {
     "data": {
      "text/html": [
       "<div>\n",
       "<style scoped>\n",
       "    .dataframe tbody tr th:only-of-type {\n",
       "        vertical-align: middle;\n",
       "    }\n",
       "\n",
       "    .dataframe tbody tr th {\n",
       "        vertical-align: top;\n",
       "    }\n",
       "\n",
       "    .dataframe thead th {\n",
       "        text-align: right;\n",
       "    }\n",
       "</style>\n",
       "<table border=\"1\" class=\"dataframe\">\n",
       "  <thead>\n",
       "    <tr style=\"text-align: right;\">\n",
       "      <th></th>\n",
       "      <th>doc_name</th>\n",
       "      <th>no_of_sentences</th>\n",
       "    </tr>\n",
       "  </thead>\n",
       "  <tbody>\n",
       "    <tr>\n",
       "      <th>0</th>\n",
       "      <td>0600090.txt</td>\n",
       "      <td>127</td>\n",
       "    </tr>\n",
       "    <tr>\n",
       "      <th>1</th>\n",
       "      <td>0600091.txt</td>\n",
       "      <td>117</td>\n",
       "    </tr>\n",
       "    <tr>\n",
       "      <th>2</th>\n",
       "      <td>0600134.txt</td>\n",
       "      <td>45</td>\n",
       "    </tr>\n",
       "    <tr>\n",
       "      <th>3</th>\n",
       "      <td>0600163.txt</td>\n",
       "      <td>131</td>\n",
       "    </tr>\n",
       "    <tr>\n",
       "      <th>4</th>\n",
       "      <td>0600177.txt</td>\n",
       "      <td>61</td>\n",
       "    </tr>\n",
       "  </tbody>\n",
       "</table>\n",
       "</div>"
      ],
      "text/plain": [
       "      doc_name  no_of_sentences\n",
       "0  0600090.txt              127\n",
       "1  0600091.txt              117\n",
       "2  0600134.txt               45\n",
       "3  0600163.txt              131\n",
       "4  0600177.txt               61"
      ]
     },
     "execution_count": 7,
     "metadata": {},
     "output_type": "execute_result"
    }
   ],
   "source": [
    "df = pd.DataFrame(unlab_segments_by_doc)\n",
    "df.head()"
   ]
  },
  {
   "cell_type": "markdown",
   "id": "2885a521",
   "metadata": {},
   "source": [
    "##### Plotting with Plotly"
   ]
  },
  {
   "cell_type": "code",
   "execution_count": 8,
   "id": "775d0644",
   "metadata": {
    "scrolled": true
   },
   "outputs": [],
   "source": [
    "# bin_width= 0.5\n",
    "# # here you can choose your rounding method, I've chosen math.ceil\n",
    "# nbins = math.ceil((df[\"no_of_sentences\"].max() - df[\"no_of_sentences\"].min()) / bin_width)\n",
    "# fig = px.histogram(df, x=\"no_of_sentences\", nbins=nbins,\n",
    "#             width=1200, height=600,\n",
    "#             labels={ # replaces default labels by column name\n",
    "#                 \"no_of_sentences\": \"Number of Sentences\",\n",
    "#             },\n",
    "#             template=\"plotly_white\")\n",
    "# fig.update_yaxes(showgrid=True)\n",
    "# fig.update_layout(title_text=\"Histogram of Number of Sentences in Each Document\", title_x=0.5, font_size=18)\n",
    "# fig.show()"
   ]
  },
  {
   "cell_type": "markdown",
   "id": "f9b430ec",
   "metadata": {},
   "source": [
    "##### Plotting with seaborn"
   ]
  },
  {
   "cell_type": "code",
   "execution_count": 9,
   "id": "8219a967",
   "metadata": {},
   "outputs": [
    {
     "data": {
      "image/png": "[encoded data removed]",
      "text/plain": [
       "<Figure size 1440x720 with 1 Axes>"
      ]
     },
     "metadata": {
      "needs_background": "light"
     },
     "output_type": "display_data"
    }
   ],
   "source": [
    "fig = plt.figure(figsize=(20, 10))\n",
    "sns.histplot(data=df, x=\"no_of_sentences\", bins=100)\n",
    "plt.xlabel('Number of sentences', fontsize=25)\n",
    "plt.ylabel('Count', fontsize=25)\n",
    "plt.title('Histogram of number of sentences in 30000 unlabeled texts', fontsize=25)\n",
    "plt.savefig('histogram of sentences with 100 bins.jpg')\n",
    "plt.show()"
   ]
  },
  {
   "cell_type": "markdown",
   "id": "8c9e1c7c",
   "metadata": {},
   "source": [
    "##### Plotting with Matplotlib"
   ]
  },
  {
   "cell_type": "code",
   "execution_count": 10,
   "id": "998081ea",
   "metadata": {},
   "outputs": [],
   "source": [
    "# fig = plt.figure(figsize=(20, 10))\n",
    "# plt.hist(df['no_of_sentences'], bins=100, color='royalblue')\n",
    "# plt.title('Histogram of number of sentences in 30000 unlabeled texts', fontsize=25)\n",
    "# plt.xlabel('Number of sentences', fontsize=25)\n",
    "# plt.ylabel('Count', fontsize=25)\n",
    "# # plt.savefig('histogram of sentences with 100 bins.jpg')\n",
    "# plt.show()"
   ]
  },
  {
   "cell_type": "markdown",
   "id": "5cb3164c",
   "metadata": {},
   "source": [
    "# Phase 3.2: Sentence-wise preprocessing"
   ]
  },
  {
   "cell_type": "markdown",
   "id": "ae42c329",
   "metadata": {},
   "source": [
    "### Tokenization"
   ]
  },
  {
   "cell_type": "raw",
   "id": "a8764141",
   "metadata": {},
   "source": [
    "POS\tDESCRIPTION\tEXAMPLES\n",
    "ADJ\tadjective\t*big, old, green, incomprehensible, first*\n",
    "ADP\tadposition\t*in, to, during*\n",
    "ADV\tadverb\t*very, tomorrow, down, where, there*\n",
    "AUX\tauxiliary\t*is, has (done), will (do), should (do)*\n",
    "CONJ\tconjunction\t*and, or, but*\n",
    "CCONJ\tcoordinating conjunction\t*and, or, but*\n",
    "DET\tdeterminer\t*a, an, the*\n",
    "INTJ\tinterjection\t*psst, ouch, bravo, hello*\n",
    "NOUN\tnoun\t*girl, cat, tree, air, beauty*\n",
    "NUM\tnumeral\t*1, 2017, one, seventy-seven, IV, MMXIV*\n",
    "PART\tparticle\t*’s, not,*\n",
    "PRON\tpronoun\t*I, you, he, she, myself, themselves, somebody*\n",
    "PROPN\tproper noun\t*Mary, John, London, NATO, HBO*\n",
    "PUNCT\tpunctuation\t*., (, ), ?*\n",
    "SCONJ\tsubordinating conjunction\t*if, while, that*\n",
    "SYM\tsymbol\t*$, %, §, ©, +, −, ×, ÷, =, :), 😝*\n",
    "VERB\tverb\t*run, runs, running, eat, ate, eating*\n",
    "X\tother\t*sfpksdpsxmsa*\n",
    "SPACE\tspace"
   ]
  },
  {
   "cell_type": "code",
   "execution_count": 11,
   "id": "3e4f3df9",
   "metadata": {},
   "outputs": [],
   "source": [
    "# def tokenize(txt):\n",
    "#     dirty_tokens = re.split(' +', txt)  # split words\n",
    "#     # remove all non-alphanumerics\n",
    "#     clean_tokens = [re.sub(r'\\W', '', t).lower() \n",
    "#                     for t in dirty_tokens]\n",
    "#     if '' in clean_tokens:  # remove empty tokens\n",
    "#         clean_tokens.remove('')\n",
    "#     return clean_tokens\n",
    "\n",
    "\n",
    "# def tokenize_spans(spans):\n",
    "#     for s in spans:\n",
    "#         s['tokens_manual'] = tokenize(s['txt'])\n",
    "        \n",
    "        \n",
    "# def build_vocabulary(spans):\n",
    "#     vocab_counts = {}\n",
    "#     for sd in spans:\n",
    "#         for t in tokenize(sd['txt']):\n",
    "#             if t in vocab_counts:\n",
    "#                 vocab_counts[t] += 1\n",
    "#             else:\n",
    "#                 vocab_counts[t] = 1\n",
    "#     return vocab_counts"
   ]
  },
  {
   "cell_type": "code",
   "execution_count": 12,
   "id": "e2de9a24",
   "metadata": {},
   "outputs": [],
   "source": [
    "def spacy_tokenize(txt):\n",
    "    doc = nlp(txt)\n",
    "    tokens = list(doc)\n",
    "    clean_tokens = []\n",
    "    for t in tokens:\n",
    "#         print(f'{t.text} | {t.lemma_} | {t.pos_}')\n",
    "        if t.pos_ == 'PUNCT':\n",
    "#             print(t)\n",
    "            pass\n",
    "#         if t.pos_ == 'PART' and re.search(r'\\'', t.text):\n",
    "#             print(f\"Special case: {t}\")\n",
    "        elif t.pos_ == 'NUM':\n",
    "            clean_tokens.append(f'<NUM{len(t)}>')\n",
    "        else:\n",
    "            clean_tokens.append(t.lemma_.lower())\n",
    "#     if ',' in clean_tokens:\n",
    "#         clean_tokens.remove()\n",
    "    return clean_tokens\n",
    "\n",
    "def spans_add_spacy_tokens(spans):\n",
    "    for s in spans:\n",
    "        s['tokens_spacy'] = spacy_tokenize(s['txt'])"
   ]
  },
  {
   "cell_type": "code",
   "execution_count": 13,
   "id": "7170f3fa",
   "metadata": {},
   "outputs": [],
   "source": [
    "def custom_spacy_tokenize_v2(txt):\n",
    "    nlp.disable_pipes('parser')\n",
    "    doc = nlp.pipe(txt, n_process=4)\n",
    "    doc = nlp(txt)\n",
    "    tokens = list(doc)\n",
    "    clean_tokens = []\n",
    "    for i in range(len(tokens)):\n",
    "        \n",
    "        t=tokens[i]\n",
    "        t1=tokens[i]\n",
    "#         print(f'{t.text} | {t.lemma_} | {t.pos_}')\n",
    "#         print(t.pos_, t.text)\n",
    "\n",
    "#         if \"-\" in t.text:\n",
    "#             splitted_t = t.text.split(\"-\")\n",
    "#             for i in range(len(splitted_t)):\n",
    "#                 clean_tokens.append(splitted_t[i])\n",
    "            \n",
    "        if(i!=len(tokens)-1):\n",
    "            t1=tokens[i+1]\n",
    "        if(t1!=t and t1.pos_=='PART' and re.search(r'\\'', t1.text)):\n",
    "#             print(t, t1)\n",
    "            scrap = t.text+t1.text\n",
    "            scrap = re.sub(r'\\W','',scrap).lower()\n",
    "            clean_tokens.append(scrap)\n",
    "            i=i+1           \n",
    "        elif t.pos_ == 'PUNCT':\n",
    "            pass\n",
    "        elif t.text in ('Vet. App.','Fed. Cir.'):\n",
    "            lem=t.lemma_\n",
    "            lem=lem.lower()\n",
    "            clean_tokens.append(lem)\n",
    "        elif (t.text[0].isalpha()==False and t.is_digit==False):\n",
    "            if(t.is_upper==False):\n",
    "                pass\n",
    "            else:\n",
    "                lem=t.lemma_\n",
    "                lem=lem.lower()\n",
    "                clean_tokens.append(lem)            \n",
    "        elif t.pos_ == 'NUM':\n",
    "            clean_tokens.append(f'<NUM{len(t)}>')\n",
    "        else:\n",
    "            lem=t.lemma_\n",
    "            lem = re.sub(r'\\W','',lem)\n",
    "            lem=lem.lower()\n",
    "            clean_tokens.append(lem)\n",
    "            \n",
    "    return clean_tokens\n",
    "\n",
    "def spans_add_spacy_tokens(spans):\n",
    "    for s in spans:\n",
    "        s['tokens_spacy'] = spacy_tokenize(s['txt'])"
   ]
  },
  {
   "cell_type": "code",
   "execution_count": 14,
   "id": "db576d43",
   "metadata": {},
   "outputs": [
    {
     "data": {
      "text/plain": [
       "<re.Match object; span=(0, 8), match='05/06/20'>"
      ]
     },
     "execution_count": 14,
     "metadata": {},
     "output_type": "execute_result"
    }
   ],
   "source": [
    "a = \"05/06/20\"\n",
    "re.search(\"^[0-9]{2}/[0-9]{2}/([0-9]{2}|[0-9]{4})$\", a)"
   ]
  },
  {
   "cell_type": "code",
   "execution_count": 15,
   "id": "a0cad40f",
   "metadata": {},
   "outputs": [],
   "source": [
    "def custom_spacy_tokenize(txt):\n",
    "    nlp.disable_pipes('parser')\n",
    "    doc = nlp.pipe(txt, n_process=4)\n",
    "    doc = nlp(txt)\n",
    "    tokens = list(doc)\n",
    "    clean_tokens = []\n",
    "    for i, token in enumerate(tokens):\n",
    "#         print(f\"token: {token} | {token.pos_}\")\n",
    "        if token.pos_ == 'PUNCT' and not re.search(\"^[0-9]{2}/[0-9]{2}/([0-9]{2}|[0-9]{4})$\", token.text):\n",
    "            pass\n",
    "        \n",
    "        elif token.pos_ == 'NUM':\n",
    "            refined_token = re.sub(r'\\W', '', token.text)\n",
    "            clean_tokens.append(f'<NUM{len(refined_token)}>')\n",
    "            \n",
    "        elif token.text == \"\\'s\" and token.pos_ == 'PART':\n",
    "            pos_token = tokens[i-1].text + token.text\n",
    "            \n",
    "            refined_token = re.sub(r'\\W', '', pos_token.lower())\n",
    "            \n",
    "            if refined_token.isnumeric():\n",
    "                refined_token = f'<NUM{len(refined_token)}>'\n",
    "                \n",
    "            if not refined_token == \"\":\n",
    "                clean_tokens.append(pos_token.lower())\n",
    "                clean_tokens.remove(tokens[i-1].text.lower())\n",
    "                   \n",
    "        elif \"-\" in token.text:\n",
    "            splitted_tokens = token.text.split(\"-\")\n",
    "\n",
    "            for sp_token in splitted_tokens:\n",
    "                refined_token = re.sub(r'\\W', '', sp_token.lower())\n",
    "                if refined_token != \"\":\n",
    "                    if refined_token.isnumeric():\n",
    "                        refined_token = f'<NUM{len(refined_token)}>'\n",
    "                    clean_tokens.append(refined_token)\n",
    "        elif token.text in (\"Vet. App.\", \"Fed. Cir.\"):\n",
    "            clean_tokens.append(token.lemma_.lower())\n",
    "#         elif \".\" in token.text and token.text in (\"Vet. App.\", \"Fed. Cir.\"):\n",
    "#             print(f\"Special condition fulfilled: {token.text}\")\n",
    "#             splitted_tokens = token.text.split(\".\")\n",
    "\n",
    "#             for sp_token in splitted_tokens:\n",
    "#                 refined_token = re.sub(r'\\W', '', sp_token.lower())\n",
    "#                 if refined_token != \"\":\n",
    "#                     if refined_token.isnumeric():\n",
    "#                         refined_token = f'<NUM{len(refined_token)}>'\n",
    "#                     clean_tokens.append(refined_token)\n",
    "        else:\n",
    "            refined_token = re.sub(r'\\W', '', token.lemma_.lower())\n",
    "#             print(f\"refined token: {refined_token}\")\n",
    "            if re.search('\\d+', refined_token) and re.search('[a-zA-Z]+', refined_token):\n",
    "#                 print(\"Matched mixed\")\n",
    "                continue\n",
    "            elif refined_token != \"\" and refined_token.isnumeric():\n",
    "#                 print(\"Matched digit only\")\n",
    "                refined_token = f'<NUM{len(refined_token)}>'\n",
    "                clean_tokens.append(refined_token)\n",
    "\n",
    "            elif refined_token != \"\":\n",
    "#                 print(f\"Nothing matched, inserting {refined_token}\")\n",
    "                clean_tokens.append(refined_token)\n",
    "                    \n",
    "    return clean_tokens\n",
    "\n",
    "def spans_add_spacy_tokens(spans):\n",
    "    for s in spans:\n",
    "        s['tokens_spacy'] = custom_spacy_tokenize(s['txt'])"
   ]
  },
  {
   "cell_type": "markdown",
   "id": "8c0f409e",
   "metadata": {},
   "source": [
    "#### Testing Spacy tokenizer on some example sentences"
   ]
  },
  {
   "cell_type": "code",
   "execution_count": 16,
   "id": "87c63db9",
   "metadata": {},
   "outputs": [],
   "source": [
    "nlp = spacy.load(\"en_core_web_sm\")\n",
    "nlp.tokenizer.add_special_case('Vet. App.', [{ORTH: 'Vet. App.'}])\n",
    "nlp.tokenizer.add_special_case('Fed. Cir.', [{ORTH: 'Fed. Cir.'}])"
   ]
  },
  {
   "cell_type": "code",
   "execution_count": 17,
   "id": "c55cac51",
   "metadata": {},
   "outputs": [],
   "source": [
    "example_basic_1 = 'In sum, as the preponderance of the evidence is against the Veteran\\'s claim, his appeal must be denied.'\n",
    "example_cit_1 = 'Smith v. Gober, 14 Vet. App. 227 (2000), aff\\'d 281 F.3d 1384 (Fed. Cir. 2002); Dela Cruz v. Principi, 15 Vet. App. 143 (2001); see also Quartuccio v. Principi, 16 Vet. App. 183 (2002).'\n",
    "example_rule_1 = '\"To establish a right to compensation for a present disability, a Veteran must show: \"(1) the existence of a present disability; (2) in-service incurrence or aggravation of a disease or injury; and (3) a causal relationship between the present disability and the disease or injury incurred or aggravated during service\"-the so-called \"nexus\" requirement.\"'\n",
    "example_mixed_1 = 'In Dingess v. Nicholson, 19 Vet. App. 473 (2006), the U.S. Court of Appeals for Veterans Claims held that, upon receipt of an application for a service-connection claim, 38 U.S.C.A. � 5103(a) and 38 C.F.R. � 3.159(b) require VA to provide the claimant with notice that a disability rating and an effective date for the award of benefits will be assigned if service connection is awarded. '"
   ]
  },
  {
   "cell_type": "code",
   "execution_count": 18,
   "id": "5ef16e5d",
   "metadata": {
    "scrolled": false
   },
   "outputs": [
    {
     "name": "stdout",
     "output_type": "stream",
     "text": [
      "In sum, as the preponderance of the evidence is against the Veteran's claim, his appeal must be denied.\n",
      "=============\n",
      "['in', 'sum', 'as', 'the', 'preponderance', 'of', 'the', 'evidence', 'be', 'against', 'the', 'veteran', \"'s\", 'claim', 'his', 'appeal', 'must', 'be', 'deny']\n",
      "\n",
      "['in', 'sum', 'as', 'the', 'preponderance', 'of', 'the', 'evidence', 'be', 'against', 'the', \"veteran's\", 'claim', 'his', 'appeal', 'must', 'be', 'deny']\n",
      "\n",
      "['in', 'sum', 'as', 'the', 'preponderance', 'of', 'the', 'evidence', 'be', 'against', 'the', 'veterans', 'claim', 'his', 'appeal', 'must', 'be', 'deny']\n",
      "\n"
     ]
    }
   ],
   "source": [
    "print(example_basic_1, end=\"\\n=============\\n\")\n",
    "print(spacy_tokenize(example_basic_1 ), end=\"\\n\\n\")\n",
    "print(custom_spacy_tokenize(example_basic_1), end=\"\\n\\n\")\n",
    "print(custom_spacy_tokenize_v2(example_basic_1), end=\"\\n\\n\")"
   ]
  },
  {
   "cell_type": "code",
   "execution_count": 19,
   "id": "386f2697",
   "metadata": {},
   "outputs": [
    {
     "name": "stdout",
     "output_type": "stream",
     "text": [
      "Smith v. Gober, 14 Vet. App. 227 (2000), aff'd 281 F.3d 1384 (Fed. Cir. 2002); Dela Cruz v. Principi, 15 Vet. App. 143 (2001); see also Quartuccio v. Principi, 16 Vet. App. 183 (2002).\n",
      "=============\n",
      "['smith', 'v.', 'gober', '<NUM2>', 'vet. app.', '<NUM3>', '<NUM4>', \"aff'd\", '<NUM3>', 'f.3d', '<NUM4>', 'fed. cir.', '<NUM4>', 'dela', 'cruz', 'v.', 'principi', '<NUM2>', 'vet. app.', '<NUM3>', '<NUM4>', 'see', 'also', 'quartuccio', 'v.', 'principi', '<NUM2>', 'vet. app.', '<NUM3>', '<NUM4>']\n",
      "\n",
      "['smith', 'v', 'gober', '<NUM2>', 'vet. app.', '<NUM3>', '<NUM4>', 'affd', '<NUM3>', '<NUM4>', 'fed. cir.', '<NUM4>', 'dela', 'cruz', 'v', 'principi', '<NUM2>', 'vet. app.', '<NUM3>', '<NUM4>', 'see', 'also', 'quartuccio', 'v', 'principi', '<NUM2>', 'vet. app.', '<NUM3>', '<NUM4>']\n",
      "\n",
      "['smith', 'v', 'gober', '<NUM2>', 'vet. app.', '<NUM3>', '<NUM4>', 'affd', '<NUM3>', 'f3d', '<NUM4>', 'fed. cir.', '<NUM4>', 'dela', 'cruz', 'v', 'principi', '<NUM2>', 'vet. app.', '<NUM3>', '<NUM4>', 'see', 'also', 'quartuccio', 'v', 'principi', '<NUM2>', 'vet. app.', '<NUM3>', '<NUM4>']\n",
      "\n"
     ]
    }
   ],
   "source": [
    "print(example_cit_1, end=\"\\n=============\\n\")\n",
    "print(spacy_tokenize(example_cit_1 ), end=\"\\n\\n\")\n",
    "print(custom_spacy_tokenize(example_cit_1), end=\"\\n\\n\")\n",
    "print(custom_spacy_tokenize_v2(example_cit_1), end=\"\\n\\n\")"
   ]
  },
  {
   "cell_type": "code",
   "execution_count": 20,
   "id": "2b910dce",
   "metadata": {
    "scrolled": false
   },
   "outputs": [
    {
     "name": "stdout",
     "output_type": "stream",
     "text": [
      "\"To establish a right to compensation for a present disability, a Veteran must show: \"(1) the existence of a present disability; (2) in-service incurrence or aggravation of a disease or injury; and (3) a causal relationship between the present disability and the disease or injury incurred or aggravated during service\"-the so-called \"nexus\" requirement.\"\n",
      "=============\n",
      "['to', 'establish', 'a', 'right', 'to', 'compensation', 'for', 'a', 'present', 'disability', 'a', 'veteran', 'must', 'show', '1', 'the', 'existence', 'of', 'a', 'present', 'disability', '2', 'in', 'service', 'incurrence', 'or', 'aggravation', 'of', 'a', 'disease', 'or', 'injury', 'and', '3', 'a', 'causal', 'relationship', 'between', 'the', 'present', 'disability', 'and', 'the', 'disease', 'or', 'injury', 'incur', 'or', 'aggravate', 'during', 'service\"-the', 'so', 'call', 'nexus', 'requirement']\n",
      "\n",
      "['to', 'establish', 'a', 'right', 'to', 'compensation', 'for', 'a', 'present', 'disability', 'a', 'veteran', 'must', 'show', '<NUM1>', 'the', 'existence', 'of', 'a', 'present', 'disability', '<NUM1>', 'in', 'service', 'incurrence', 'or', 'aggravation', 'of', 'a', 'disease', 'or', 'injury', 'and', '<NUM1>', 'a', 'causal', 'relationship', 'between', 'the', 'present', 'disability', 'and', 'the', 'disease', 'or', 'injury', 'incur', 'or', 'aggravate', 'during', 'service', 'the', 'so', 'call', 'nexus', 'requirement']\n",
      "\n",
      "['to', 'establish', 'a', 'right', 'to', 'compensation', 'for', 'a', 'present', 'disability', 'a', 'veteran', 'must', 'show', '1', 'the', 'existence', 'of', 'a', 'present', 'disability', '2', 'in', 'service', 'incurrence', 'or', 'aggravation', 'of', 'a', 'disease', 'or', 'injury', 'and', '3', 'a', 'causal', 'relationship', 'between', 'the', 'present', 'disability', 'and', 'the', 'disease', 'or', 'injury', 'incur', 'or', 'aggravate', 'during', 'servicethe', 'so', 'call', 'nexus', 'requirement']\n",
      "\n"
     ]
    }
   ],
   "source": [
    "print(example_rule_1, end=\"\\n=============\\n\")\n",
    "print(spacy_tokenize(example_rule_1 ), end=\"\\n\\n\")\n",
    "print(custom_spacy_tokenize(example_rule_1), end=\"\\n\\n\")\n",
    "print(custom_spacy_tokenize_v2(example_rule_1), end=\"\\n\\n\")"
   ]
  },
  {
   "cell_type": "code",
   "execution_count": 21,
   "id": "50e966bc",
   "metadata": {},
   "outputs": [
    {
     "name": "stdout",
     "output_type": "stream",
     "text": [
      "In Dingess v. Nicholson, 19 Vet. App. 473 (2006), the U.S. Court of Appeals for Veterans Claims held that, upon receipt of an application for a service-connection claim, 38 U.S.C.A. � 5103(a) and 38 C.F.R. � 3.159(b) require VA to provide the claimant with notice that a disability rating and an effective date for the award of benefits will be assigned if service connection is awarded. \n",
      "=============\n",
      "['in', 'dingess', 'v.', 'nicholson', '<NUM2>', 'vet. app.', '<NUM3>', '<NUM4>', 'the', 'u.s.', 'court', 'of', 'appeals', 'for', 'veterans', 'claims', 'hold', 'that', 'upon', 'receipt', 'of', 'an', 'application', 'for', 'a', 'service', 'connection', 'claim', '<NUM2>', 'u.s.c.a.', '�', '<NUM6>', 'and', '<NUM2>', 'c.f.r.', '�', '3.159(b', 'require', 'va', 'to', 'provide', 'the', 'claimant', 'with', 'notice', 'that', 'a', 'disability', 'rating', 'and', 'an', 'effective', 'date', 'for', 'the', 'award', 'of', 'benefit', 'will', 'be', 'assign', 'if', 'service', 'connection', 'be', 'award']\n",
      "\n",
      "['in', 'dingess', 'v', 'nicholson', '<NUM2>', 'vet. app.', '<NUM3>', '<NUM4>', 'the', 'us', 'court', 'of', 'appeals', 'for', 'veterans', 'claims', 'hold', 'that', 'upon', 'receipt', 'of', 'an', 'application', 'for', 'a', 'service', 'connection', 'claim', '<NUM2>', 'usca', '<NUM5>', 'and', '<NUM2>', 'cfr', 'require', 'va', 'to', 'provide', 'the', 'claimant', 'with', 'notice', 'that', 'a', 'disability', 'rating', 'and', 'an', 'effective', 'date', 'for', 'the', 'award', 'of', 'benefit', 'will', 'be', 'assign', 'if', 'service', 'connection', 'be', 'award']\n",
      "\n",
      "['in', 'dingess', 'v', 'nicholson', '<NUM2>', 'vet. app.', '<NUM3>', '<NUM4>', 'the', 'us', 'court', 'of', 'appeals', 'for', 'veterans', 'claims', 'hold', 'that', 'upon', 'receipt', 'of', 'an', 'application', 'for', 'a', 'service', 'connection', 'claim', '<NUM2>', 'usca', 'and', '<NUM2>', 'cfr', 'require', 'va', 'to', 'provide', 'the', 'claimant', 'with', 'notice', 'that', 'a', 'disability', 'rating', 'and', 'an', 'effective', 'date', 'for', 'the', 'award', 'of', 'benefit', 'will', 'be', 'assign', 'if', 'service', 'connection', 'be', 'award']\n",
      "\n"
     ]
    }
   ],
   "source": [
    "print(example_mixed_1, end=\"\\n=============\\n\")\n",
    "print(spacy_tokenize(example_mixed_1 ), end=\"\\n\\n\")\n",
    "print(custom_spacy_tokenize(example_mixed_1), end=\"\\n\\n\")\n",
    "print(custom_spacy_tokenize_v2(example_mixed_1), end=\"\\n\\n\")"
   ]
  },
  {
   "cell_type": "code",
   "execution_count": 22,
   "id": "15041dd0",
   "metadata": {},
   "outputs": [
    {
     "name": "stdout",
     "output_type": "stream",
     "text": [
      "38 C.F.R. § 3.303(d) (2005).\n",
      "=============\n",
      "['<NUM2>', 'c.f.r.', '§', '3.303(d', '<NUM4>']\n",
      "\n",
      "['<NUM2>', 'cfr', '<NUM4>']\n",
      "\n",
      "['<NUM2>', 'cfr', '<NUM4>']\n",
      "\n"
     ]
    }
   ],
   "source": [
    "sp_text_1 = \"38 C.F.R. § 3.303(d) (2005).\"\n",
    "\n",
    "print(sp_text_1, end=\"\\n=============\\n\")\n",
    "print(spacy_tokenize(sp_text_1 ), end=\"\\n\\n\")\n",
    "print(custom_spacy_tokenize(sp_text_1), end=\"\\n\\n\")\n",
    "print(custom_spacy_tokenize_v2(sp_text_1), end=\"\\n\\n\")"
   ]
  },
  {
   "cell_type": "code",
   "execution_count": 23,
   "id": "d0da8502",
   "metadata": {},
   "outputs": [
    {
     "name": "stdout",
     "output_type": "stream",
     "text": [
      "BOARD OF VETERANS APPEALS\n",
      "DEPARTMENT OF VETERANS AFFAIRS\n",
      "WASHINGTON, DC  20420\n",
      "=============\n",
      "['board', 'of', 'veterans', 'appeals', '\\n', 'department', 'of', 'veterans', 'affairs', '\\n', 'washington', 'dc', ' ', '<NUM5>']\n",
      "\n",
      "['board', 'of', 'veterans', 'appeals', 'department', 'of', 'veterans', 'affairs', 'washington', 'dc', '<NUM5>']\n",
      "\n",
      "['board', 'of', 'veterans', 'appeals', 'department', 'of', 'veterans', 'affairs', 'washington', 'dc', '<NUM5>']\n",
      "\n"
     ]
    }
   ],
   "source": [
    "sp_text_2 = \"BOARD OF VETERANS APPEALS\\nDEPARTMENT OF VETERANS AFFAIRS\\nWASHINGTON, DC  20420\"\n",
    "\n",
    "print(sp_text_2, end=\"\\n=============\\n\")\n",
    "print(spacy_tokenize(sp_text_2 ), end=\"\\n\\n\")\n",
    "print(custom_spacy_tokenize(sp_text_2), end=\"\\n\\n\")\n",
    "print(custom_spacy_tokenize_v2(sp_text_2), end=\"\\n\\n\")"
   ]
  },
  {
   "cell_type": "code",
   "execution_count": 24,
   "id": "561fb9bd",
   "metadata": {},
   "outputs": [
    {
     "name": "stdout",
     "output_type": "stream",
     "text": [
      "X-rays demonstrated \n",
      "minimal degenerative changes at the L5-S1.\n",
      "=============\n",
      "['x', '-', 'ray', 'demonstrate', '\\n', 'minimal', 'degenerative', 'change', 'at', 'the', 'l5', 's1']\n",
      "\n",
      "['x', 'ray', 'demonstrate', 'minimal', 'degenerative', 'change', 'at', 'the']\n",
      "\n",
      "['x', 'ray', 'demonstrate', 'minimal', 'degenerative', 'change', 'at', 'the', 'l5', 's1']\n",
      "\n"
     ]
    }
   ],
   "source": [
    "sp_text_3 = \"X-rays demonstrated \\nminimal degenerative changes at the L5-S1.\"\n",
    "\n",
    "print(sp_text_3, end=\"\\n=============\\n\")\n",
    "print(spacy_tokenize(sp_text_3 ), end=\"\\n\\n\")\n",
    "print(custom_spacy_tokenize(sp_text_3), end=\"\\n\\n\")\n",
    "print(custom_spacy_tokenize_v2(sp_text_3), end=\"\\n\\n\")"
   ]
  },
  {
   "cell_type": "code",
   "execution_count": 25,
   "id": "84ce5a5a",
   "metadata": {},
   "outputs": [
    {
     "name": "stdout",
     "output_type": "stream",
     "text": [
      "Spacy's tokenizer requires special rules for producing 'state-of-the-art' tokens.\n",
      "=============\n",
      "['spacy', \"'s\", 'tokenizer', 'require', 'special', 'rule', 'for', 'produce', 'state', 'of', 'the', 'art', 'token']\n",
      "\n",
      "[\"spacy's\", 'tokenizer', 'require', 'special', 'rule', 'for', 'produce', 'state', 'of', 'the', 'art', 'token']\n",
      "\n",
      "['spacys', 'tokenizer', 'require', 'special', 'rule', 'for', 'produce', 'state', 'of', 'the', 'art', 'token']\n",
      "\n"
     ]
    }
   ],
   "source": [
    "sp_txt_4 = \"Spacy's tokenizer requires special rules for producing 'state-of-the-art' tokens.\"\n",
    "\n",
    "print(sp_txt_4, end=\"\\n=============\\n\")\n",
    "print(spacy_tokenize(sp_txt_4 ), end=\"\\n\\n\")\n",
    "print(custom_spacy_tokenize(sp_txt_4), end=\"\\n\\n\")\n",
    "print(custom_spacy_tokenize_v2(sp_txt_4), end=\"\\n\\n\")"
   ]
  },
  {
   "cell_type": "code",
   "execution_count": 26,
   "id": "a7f8547c",
   "metadata": {
    "scrolled": true
   },
   "outputs": [
    {
     "name": "stdout",
     "output_type": "stream",
     "text": [
      "C.F.R. §§ 3.102, 3.303, 3.306, 3.310 (2005).\n",
      "=============\n",
      "['c.f.r.', '§', '§', '<NUM5>', '<NUM5>', '<NUM5>', '<NUM5>', '<NUM4>']\n",
      "\n",
      "['cfr', '<NUM4>', '<NUM4>', '<NUM4>', '<NUM4>', '<NUM4>']\n",
      "\n",
      "['cfr', '<NUM4>']\n",
      "\n"
     ]
    }
   ],
   "source": [
    "sp_txt_5 = \"C.F.R. §§ 3.102, 3.303, 3.306, 3.310 (2005).\"\n",
    "\n",
    "print(sp_txt_5, end=\"\\n=============\\n\")\n",
    "print(spacy_tokenize(sp_txt_5 ), end=\"\\n\\n\")\n",
    "print(custom_spacy_tokenize(sp_txt_5), end=\"\\n\\n\")\n",
    "print(custom_spacy_tokenize_v2(sp_txt_5), end=\"\\n\\n\")"
   ]
  },
  {
   "cell_type": "code",
   "execution_count": 27,
   "id": "8980be13",
   "metadata": {},
   "outputs": [
    {
     "name": "stdout",
     "output_type": "stream",
     "text": [
      "Decision Date: 03/08/06\n",
      "=============\n",
      "['decision', 'date']\n",
      "\n",
      "['decision', 'date', '<NUM6>']\n",
      "\n",
      "['decision', 'date']\n",
      "\n"
     ]
    }
   ],
   "source": [
    "sp_text_6 = \"Decision Date: 03/08/06\"\n",
    "\n",
    "print(sp_text_6, end=\"\\n=============\\n\")\n",
    "print(spacy_tokenize(sp_text_6 ), end=\"\\n\\n\")\n",
    "print(custom_spacy_tokenize(sp_text_6), end=\"\\n\\n\")\n",
    "print(custom_spacy_tokenize_v2(sp_text_6), end=\"\\n\\n\")"
   ]
  },
  {
   "cell_type": "code",
   "execution_count": 28,
   "id": "44a03cef",
   "metadata": {},
   "outputs": [
    {
     "name": "stdout",
     "output_type": "stream",
     "text": [
      "Archive Date: 06/16/06\n",
      "=============\n",
      "['archive', 'date', '<NUM8>']\n",
      "\n",
      "['archive', 'date', '<NUM6>']\n",
      "\n",
      "['archive', 'date']\n",
      "\n"
     ]
    }
   ],
   "source": [
    "sp_text_7 = \"Archive Date: 06/16/06\"\n",
    "\n",
    "print(sp_text_7, end=\"\\n=============\\n\")\n",
    "print(spacy_tokenize(sp_text_7 ), end=\"\\n\\n\")\n",
    "print(custom_spacy_tokenize(sp_text_7), end=\"\\n\\n\")\n",
    "print(custom_spacy_tokenize_v2(sp_text_7), end=\"\\n\\n\")"
   ]
  },
  {
   "cell_type": "markdown",
   "id": "786dcd8e",
   "metadata": {},
   "source": [
    "### Test the tokenization of a single file"
   ]
  },
  {
   "cell_type": "code",
   "execution_count": 29,
   "id": "b79c42e0",
   "metadata": {},
   "outputs": [],
   "source": [
    "test_file = open(UNLABELED_DATA_PATH/ Path('0603946.txt'), 'r').read().encode('latin-1', 'ignore')\n",
    "test_file = test_file.decode('latin-1').strip()\n",
    "doc = luima.text2sentences(test_file, offsets=False)\n",
    "\n",
    "spans = [{'txt': sent} for sent in doc]\n",
    "spans_add_spacy_tokens(spans)"
   ]
  },
  {
   "cell_type": "code",
   "execution_count": 30,
   "id": "25c74325",
   "metadata": {
    "scrolled": true
   },
   "outputs": [],
   "source": [
    "# token_save_file = 'tokenized_sentences_unlabeled.txt'\n",
    "# file = open(token_save_file, 'w')\n",
    "# dir(file)"
   ]
  },
  {
   "cell_type": "code",
   "execution_count": 34,
   "id": "95560e74",
   "metadata": {
    "scrolled": true
   },
   "outputs": [],
   "source": [
    "token_save_file = 'tokenized_sentences_unlabeled.txt'\n",
    "file = open(token_save_file, 'a')\n",
    "\n",
    "for i, span in enumerate(spans):\n",
    "    for pos, token in enumerate(span['tokens_spacy']):\n",
    "        if pos == 0:\n",
    "            file.write(token)\n",
    "        else:\n",
    "            file.write(\" \" + token)\n",
    "        \n",
    "    file.write(\"\\n\")\n",
    "#     print(f\"{i+1}. {span['txt'].ljust(len(span['txt']))} | {span['tokens_spacy']}\", end=\"\\n\\n\")"
   ]
  },
  {
   "cell_type": "code",
   "execution_count": null,
   "id": "d1078208",
   "metadata": {},
   "outputs": [],
   "source": []
  },
  {
   "cell_type": "code",
   "execution_count": null,
   "id": "0b6fd7b5",
   "metadata": {},
   "outputs": [],
   "source": [
    "tokenize_spans(spans)"
   ]
  },
  {
   "cell_type": "code",
   "execution_count": null,
   "id": "5882aa8b",
   "metadata": {
    "scrolled": true
   },
   "outputs": [],
   "source": [
    "for span in spans:\n",
    "    print(span, end=\"\\n\\n\")"
   ]
  },
  {
   "cell_type": "code",
   "execution_count": null,
   "id": "2862521f",
   "metadata": {
    "scrolled": true
   },
   "outputs": [],
   "source": [
    "spacy_tokenize(example_cit_1)"
   ]
  },
  {
   "cell_type": "code",
   "execution_count": null,
   "id": "2d374332",
   "metadata": {
    "scrolled": true
   },
   "outputs": [],
   "source": [
    "tokenize(example_cit_1)"
   ]
  },
  {
   "cell_type": "code",
   "execution_count": null,
   "id": "ca7ad90a",
   "metadata": {},
   "outputs": [],
   "source": []
  },
  {
   "cell_type": "code",
   "execution_count": null,
   "id": "e010f0ff",
   "metadata": {},
   "outputs": [],
   "source": []
  },
  {
   "cell_type": "code",
   "execution_count": null,
   "id": "875d59d5",
   "metadata": {},
   "outputs": [],
   "source": []
  },
  {
   "cell_type": "code",
   "execution_count": null,
   "id": "9c1a2fd4",
   "metadata": {},
   "outputs": [],
   "source": []
  },
  {
   "cell_type": "code",
   "execution_count": null,
   "id": "0bb1caa3",
   "metadata": {},
   "outputs": [],
   "source": []
  },
  {
   "cell_type": "code",
   "execution_count": null,
   "id": "4599cd2c",
   "metadata": {},
   "outputs": [],
   "source": []
  },
  {
   "cell_type": "raw",
   "id": "595e5d67",
   "metadata": {},
   "source": [
    "##### Observations\n",
    "1. Sometimes converting the date into number, sometimes not. \n",
    "\"Decision Date: 03/08/06 | ['decision', 'Date']\", \"Archive Date: 06/16/06 | ['Archive', 'Date', '<NUM8>']\"\n",
    "\n",
    "2. Not removing the '\\n' characters.\n",
    "BOARD OF VETERANS APPEALS\n",
    "DEPARTMENT OF VETERANS AFFAIRS\n",
    "WASHINGTON, DC  20420 | ['BOARD', 'of', 'VETERANS', 'APPEALS', '\\n', 'DEPARTMENT', 'of', 'VETERANS', 'AFFAIRS', '\\n', 'WASHINGTON', 'DC', ' ', '<NUM5>']\n",
    "\n",
    "3. Capitalizations need to be handled and all should be made lower case. \n",
    "\n",
    "4. Should we keep symbols like this? \"§§\"\n",
    "\n",
    "5. \"70. X-rays demonstrated \n",
    "minimal degenerative changes at the L5-S1. | ['X', '-', 'ray', 'demonstrate', '\\n', 'minimal', 'degenerative', 'change', 'at', 'the', 'L5', 'S1']\"\n",
    "\n",
    "Should the L5-S1 things be kept?\n",
    "\n",
    "6. Should Roman numbers be simplified as well? e.g: 97. II. | ['II']\n",
    "\n",
    "7. Numbering not consistent, e.g: 105. 38 C.F.R. § 3.303(d) (2005). | ['<NUM2>', 'C.F.R.', '§', '3.303(d', '<NUM4>']\n",
    "\n",
    "8. Vet. App. should be a single token unlike the produced, e.g: 127. Gilbert, 1 Vet. App. at 54. | ['Gilbert', '<NUM1>', 'Vet', '.', 'App', 'at', '<NUM2>']\n",
    "\n",
    "9. 133. James L. March | ['James', 'L.', 'March']"
   ]
  }
 ],
 "metadata": {
  "kernelspec": {
   "display_name": "venv",
   "language": "python",
   "name": "venv"
  },
  "language_info": {
   "codemirror_mode": {
    "name": "ipython",
    "version": 3
   },
   "file_extension": ".py",
   "mimetype": "text/x-python",
   "name": "python",
   "nbconvert_exporter": "python",
   "pygments_lexer": "ipython3",
   "version": "3.10.0"
  }
 },
 "nbformat": 4,
 "nbformat_minor": 5
}
