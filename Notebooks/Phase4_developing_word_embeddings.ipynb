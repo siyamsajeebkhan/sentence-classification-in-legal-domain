{
 "cells": [
  {
   "cell_type": "code",
   "execution_count": null,
   "id": "f2388e92",
   "metadata": {},
   "outputs": [],
   "source": [
    "import sys\n",
    "sys.path.append(r\"C:\\Users\\siyam\\Desktop\\Legal DS\\project\\venv\\Lib\\site-packages\")\n",
    "import os\n",
    "from pathlib import Path\n",
    "import json\n",
    "import random\n",
    "import numpy as np\n",
    "import spacy\n",
    "\n",
    "\n",
    "from tqdm import tqdm\n",
    "import pickle\n",
    "import spacy\n",
    "import json\n",
    "import random\n",
    "import re\n",
    "import pandas as pd\n",
    "import numpy as np\n",
    "from copy import deepcopy\n",
    "from sklearn import model_selection\n",
    "from spacy.tokenizer import Tokenizer\n",
    "from spacy.lang.en import English\n",
    "from spacy.symbols import ORTH\n",
    "from sklearn.feature_extraction import DictVectorizer\n",
    "from sklearn.feature_extraction.text import TfidfVectorizer\n",
    "from sklearn.svm import SVC\n",
    "from sklearn.ensemble import RandomForestClassifier\n",
    "from sklearn.naive_bayes import GaussianNB\n",
    "from sklearn.metrics import classification_report, confusion_matrix\n",
    "from sklearn import tree\n",
    "import matplotlib.pyplot as plt\n",
    "from spacy.language import Language\n",
    "from luima_sbd import sbd_utils as luima\n",
    "import seaborn as sns\n",
    "import plotly.express as px\n",
    "import math\n",
    "import fasttext\n",
    "%matplotlib inline"
   ]
  },
  {
   "cell_type": "markdown",
   "id": "3d7d6b82",
   "metadata": {},
   "source": [
    "# Phase 4.1: Custom Fasttext embeddings"
   ]
  },
  {
   "cell_type": "code",
   "execution_count": 4,
   "id": "58254ee1",
   "metadata": {},
   "outputs": [],
   "source": [
    "tokened_data = '../Data/tokenized_sentences_unlabeled.txt'"
   ]
  },
  {
   "cell_type": "code",
   "execution_count": 5,
   "id": "433c0390",
   "metadata": {},
   "outputs": [
    {
     "data": {
      "text/plain": [
       "'../Data/tokenized_sentences_unlabeled.txt'"
      ]
     },
     "execution_count": 5,
     "metadata": {},
     "output_type": "execute_result"
    }
   ],
   "source": [
    "tokened_data"
   ]
  },
  {
   "cell_type": "code",
   "execution_count": 1,
   "id": "a129e605",
   "metadata": {},
   "outputs": [],
   "source": [
    "import fasttext"
   ]
  },
  {
   "cell_type": "code",
   "execution_count": 2,
   "id": "570cca54",
   "metadata": {
    "scrolled": true
   },
   "outputs": [
    {
     "data": {
      "text/plain": [
       "['BOW',\n",
       " 'EOS',\n",
       " 'EOW',\n",
       " 'FastText',\n",
       " '__builtins__',\n",
       " '__cached__',\n",
       " '__doc__',\n",
       " '__file__',\n",
       " '__loader__',\n",
       " '__name__',\n",
       " '__package__',\n",
       " '__path__',\n",
       " '__spec__',\n",
       " 'absolute_import',\n",
       " 'cbow',\n",
       " 'division',\n",
       " 'load_model',\n",
       " 'print_function',\n",
       " 'skipgram',\n",
       " 'supervised',\n",
       " 'tokenize',\n",
       " 'train_supervised',\n",
       " 'train_unsupervised',\n",
       " 'unicode_literals']"
      ]
     },
     "execution_count": 2,
     "metadata": {},
     "output_type": "execute_result"
    }
   ],
   "source": [
    "dir(fasttext)"
   ]
  },
  {
   "cell_type": "code",
   "execution_count": 12,
   "id": "12caf0fa",
   "metadata": {},
   "outputs": [
    {
     "name": "stdout",
     "output_type": "stream",
     "text": [
      "CPU times: total: 16min 8s\n",
      "Wall time: 2min 44s\n"
     ]
    }
   ],
   "source": [
    "%time model = fasttext.train_unsupervised(tokened_data, epoch=1, minCount=20, verbose=1)"
   ]
  },
  {
   "cell_type": "code",
   "execution_count": 11,
   "id": "0f240d13",
   "metadata": {},
   "outputs": [
    {
     "data": {
      "text/plain": [
       "12217"
      ]
     },
     "execution_count": 11,
     "metadata": {},
     "output_type": "execute_result"
    }
   ],
   "source": [
    "len(model.get_words(on_unicode_error='ignore'))"
   ]
  },
  {
   "cell_type": "code",
   "execution_count": null,
   "id": "e27b69cd",
   "metadata": {},
   "outputs": [],
   "source": []
  }
 ],
 "metadata": {
  "kernelspec": {
   "display_name": "venv",
   "language": "python",
   "name": "venv"
  },
  "language_info": {
   "codemirror_mode": {
    "name": "ipython",
    "version": 3
   },
   "file_extension": ".py",
   "mimetype": "text/x-python",
   "name": "python",
   "nbconvert_exporter": "python",
   "pygments_lexer": "ipython3",
   "version": "3.10.0"
  }
 },
 "nbformat": 4,
 "nbformat_minor": 5
}
