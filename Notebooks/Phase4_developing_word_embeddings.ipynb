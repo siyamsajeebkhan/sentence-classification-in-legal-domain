{
 "cells": [
  {
   "cell_type": "code",
   "execution_count": 3,
   "id": "f2388e92",
   "metadata": {},
   "outputs": [],
   "source": [
    "import sys\n",
    "sys.path.append(r\"C:\\Users\\siyam\\Desktop\\Legal DS\\project\\venv\\Lib\\site-packages\")\n",
    "import os\n",
    "from pathlib import Path\n",
    "import json\n",
    "import random\n",
    "import numpy as np\n",
    "import spacy\n",
    "\n",
    "\n",
    "from tqdm import tqdm\n",
    "import pickle\n",
    "import spacy\n",
    "import json\n",
    "import random\n",
    "import re\n",
    "import pandas as pd\n",
    "import numpy as np\n",
    "from copy import deepcopy\n",
    "from sklearn import model_selection\n",
    "from spacy.tokenizer import Tokenizer\n",
    "from spacy.lang.en import English\n",
    "from spacy.symbols import ORTH\n",
    "from sklearn.feature_extraction import DictVectorizer\n",
    "from sklearn.feature_extraction.text import TfidfVectorizer\n",
    "from sklearn.svm import SVC\n",
    "from sklearn.ensemble import RandomForestClassifier\n",
    "from sklearn.naive_bayes import GaussianNB\n",
    "from sklearn.metrics import classification_report, confusion_matrix\n",
    "from sklearn import tree\n",
    "import matplotlib.pyplot as plt\n",
    "from spacy.language import Language\n",
    "from luima_sbd import sbd_utils as luima\n",
    "import seaborn as sns\n",
    "import plotly.express as px\n",
    "import math\n",
    "import fasttext\n",
    "%matplotlib inline"
   ]
  },
  {
   "cell_type": "markdown",
   "id": "3d7d6b82",
   "metadata": {},
   "source": [
    "# Phase 4.1: Custom Fasttext embeddings"
   ]
  },
  {
   "cell_type": "code",
   "execution_count": 4,
   "id": "8c74ea1c",
   "metadata": {},
   "outputs": [],
   "source": [
    "tokened_data = '../Data/tokenized_sentences_unlabeled_corpus.txt'"
   ]
  },
  {
   "cell_type": "code",
   "execution_count": 5,
   "id": "519fbfae",
   "metadata": {},
   "outputs": [
    {
     "data": {
      "text/plain": [
       "'../Data/tokenized_sentences_unlabeled_corpus.txt'"
      ]
     },
     "execution_count": 5,
     "metadata": {},
     "output_type": "execute_result"
    }
   ],
   "source": [
    "tokened_data"
   ]
  },
  {
   "cell_type": "code",
   "execution_count": 6,
   "id": "dcbf2281",
   "metadata": {},
   "outputs": [],
   "source": [
    "import fasttext"
   ]
  },
  {
   "cell_type": "code",
   "execution_count": 40,
   "id": "3e86afc4",
   "metadata": {},
   "outputs": [
    {
     "name": "stdout",
     "output_type": "stream",
     "text": [
      "CPU times: total: 2h 34min 8s\n",
      "Wall time: 22min 53s\n"
     ]
    }
   ],
   "source": [
    "%time model = fasttext.train_unsupervised(tokened_data, epoch=10, minCount=20, verbose=2)"
   ]
  },
  {
   "cell_type": "code",
   "execution_count": 41,
   "id": "16ea6290",
   "metadata": {},
   "outputs": [
    {
     "data": {
      "text/plain": [
       "12217"
      ]
     },
     "execution_count": 41,
     "metadata": {},
     "output_type": "execute_result"
    }
   ],
   "source": [
    "len(model.get_words(on_unicode_error='ignore'))"
   ]
  },
  {
   "cell_type": "code",
   "execution_count": 42,
   "id": "894944f9",
   "metadata": {},
   "outputs": [],
   "source": [
    "model.save_model(\"../Data/ft_word_embedding_model.bin\")"
   ]
  },
  {
   "cell_type": "code",
   "execution_count": 7,
   "id": "6d16e029",
   "metadata": {},
   "outputs": [
    {
     "name": "stderr",
     "output_type": "stream",
     "text": [
      "Warning : `load_model` does not return WordVectorModel or SupervisedModel any more, but a `FastText` object which is very similar.\n"
     ]
    },
    {
     "data": {
      "text/plain": [
       "12217"
      ]
     },
     "execution_count": 7,
     "metadata": {},
     "output_type": "execute_result"
    }
   ],
   "source": [
    "model = fasttext.load_model(\"../Data/ft_word_embedding_model.bin\")\n",
    "len(model.get_words(on_unicode_error='ignore'))"
   ]
  },
  {
   "cell_type": "code",
   "execution_count": 44,
   "id": "97dfde34",
   "metadata": {},
   "outputs": [],
   "source": [
    "# test_words=[\"veteran\",\"vet\",\"service\",\"cause\",\"caused\",\"remanded\",\"vietnam\",\"see\",\"board\",\"notice\",\"claim\", \"judge\",\"records\",\"letter\"]\n",
    "test_words=[\"veteran\",\"v.\",\"argues\",\"ptsd\",\"granted\",\"korea\",\"holding\",\"also\"]\n",
    "test_word_track=[]\n",
    "for word in test_words:\n",
    "    nearest_neigh=model.get_nearest_neighbors(word, on_unicode_error='ignore')\n",
    "    app_dict={\n",
    "        \"test_word\": word,\n",
    "        \"nearest_neighbours\": nearest_neigh\n",
    "    }\n",
    "    test_word_track.append(app_dict)"
   ]
  },
  {
   "cell_type": "code",
   "execution_count": 45,
   "id": "58305077",
   "metadata": {
    "scrolled": true
   },
   "outputs": [
    {
     "data": {
      "text/plain": [
       "[{'test_word': 'veteran',\n",
       "  'nearest_neighbours': [(0.743248462677002, 'appellant'),\n",
       "   (0.7283560633659363, 'he'),\n",
       "   (0.5777813196182251, 'additionally'),\n",
       "   (0.5699048042297363, 'she'),\n",
       "   (0.5583944916725159, 'have'),\n",
       "   (0.5371725559234619, 'his'),\n",
       "   (0.5326139330863953, 'that'),\n",
       "   (0.5299844145774841, 'the'),\n",
       "   (0.5259371399879456, 'furthermore'),\n",
       "   (0.5086601972579956, 'moreover')]},\n",
       " {'test_word': 'v.',\n",
       "  'nearest_neighbours': [(0.3488071858882904, 'mercy'),\n",
       "   (0.3253656029701233, 'sulfur'),\n",
       "   (0.32075878977775574, 'sulfa'),\n",
       "   (0.31695881485939026, 'berry'),\n",
       "   (0.3139955699443817, 'harry'),\n",
       "   (0.31391584873199463, 'split'),\n",
       "   (0.31163278222084045, 'retired'),\n",
       "   (0.30642300844192505, 'dmd'),\n",
       "   (0.30287694931030273, 'larry'),\n",
       "   (0.3027796149253845, 'furnish')]},\n",
       " {'test_word': 'argues',\n",
       "  'nearest_neighbours': [(0.7081536650657654, 'argue'),\n",
       "   (0.6161292791366577, 'holbrook'),\n",
       "   (0.5763423442840576, 'criticize'),\n",
       "   (0.5669669508934021, 'arguendo'),\n",
       "   (0.5481269359588623, 'agree'),\n",
       "   (0.5458311438560486, 'write'),\n",
       "   (0.5442963242530823, 'informal'),\n",
       "   (0.5391563773155212, 'thurber'),\n",
       "   (0.5388301014900208, 'ihp'),\n",
       "   (0.5379348993301392, 'rizzo')]},\n",
       " {'test_word': 'ptsd',\n",
       "  'nearest_neighbours': [(0.7768558263778687, 'pstd'),\n",
       "   (0.7548865675926208, 'depressive'),\n",
       "   (0.7335715293884277, 'mdd'),\n",
       "   (0.7148630023002625, 'anxiety'),\n",
       "   (0.7129707932472229, 'dysthymia'),\n",
       "   (0.7127758264541626, 'bipolar'),\n",
       "   (0.7084360718727112, 'depression'),\n",
       "   (0.7058084011077881, 'psychiatric'),\n",
       "   (0.6951050162315369, 'dysthymic'),\n",
       "   (0.6893450021743774, 'mst')]},\n",
       " {'test_word': 'granted',\n",
       "  'nearest_neighbours': [(0.6398232579231262, 'unwarranted'),\n",
       "   (0.6112461686134338, 'granting'),\n",
       "   (0.5940082669258118, 'grant'),\n",
       "   (0.5791804194450378, 'unrebutted'),\n",
       "   (0.552491307258606, 'manlincon'),\n",
       "   (0.5243826508522034, 'grantham'),\n",
       "   (0.5173816084861755, 'moot'),\n",
       "   (0.5124436020851135, 'establishment'),\n",
       "   (0.5075477957725525, 'dismiss'),\n",
       "   (0.5074900388717651, 'connection')]},\n",
       " {'test_word': 'korea',\n",
       "  'nearest_neighbours': [(0.8430114984512329, 'korean'),\n",
       "   (0.8028872013092041, 'dmz'),\n",
       "   (0.7812560796737671, 'demilitarized'),\n",
       "   (0.7637674808502197, 'germany'),\n",
       "   (0.758934736251831, 'demilitarize'),\n",
       "   (0.7449371814727783, 'vietnam'),\n",
       "   (0.7394500970840454, 'station'),\n",
       "   (0.7225540280342102, 'panama'),\n",
       "   (0.70991051197052, 'seoul'),\n",
       "   (0.7041282057762146, 'rvn')]},\n",
       " {'test_word': 'holding',\n",
       "  'nearest_neighbours': [(0.7924805283546448, \"court's\"),\n",
       "   (0.6965558528900146, 'ruling'),\n",
       "   (0.6547802686691284, 'supra'),\n",
       "   (0.6197993755340576, 'dingess'),\n",
       "   (0.600135326385498, 'mandate'),\n",
       "   (0.5904440879821777, 'clemons'),\n",
       "   (0.5879637002944946, 'hartman'),\n",
       "   (0.5752753615379333, 'kent'),\n",
       "   (0.5650744438171387, 'caselaw'),\n",
       "   (0.5565267205238342, \"circuit's\")]},\n",
       " {'test_word': 'also',\n",
       "  'nearest_neighbours': [(0.6273332834243774, 'see'),\n",
       "   (0.5914666056632996, '<NUM4>'),\n",
       "   (0.5573482513427734, 'that'),\n",
       "   (0.5564540028572083, 'diorio'),\n",
       "   (0.5526991486549377, 'addition'),\n",
       "   (0.5432044863700867, 'additionally'),\n",
       "   (0.537996768951416, 'id'),\n",
       "   (0.5355687737464905, 'cf'),\n",
       "   (0.5327804088592529, 'harman'),\n",
       "   (0.5274993777275085, 'ivey')]}]"
      ]
     },
     "execution_count": 45,
     "metadata": {},
     "output_type": "execute_result"
    }
   ],
   "source": [
    "test_word_track"
   ]
  },
  {
   "cell_type": "code",
   "execution_count": 9,
   "id": "66ff9acd",
   "metadata": {},
   "outputs": [
    {
     "data": {
      "text/plain": [
       "(100,)"
      ]
     },
     "execution_count": 9,
     "metadata": {},
     "output_type": "execute_result"
    }
   ],
   "source": [
    "model.get_word_vector('veteran').shape"
   ]
  },
  {
   "cell_type": "code",
   "execution_count": 13,
   "id": "8481fb2b",
   "metadata": {},
   "outputs": [
    {
     "data": {
      "text/plain": [
       "array([ 0.04571989,  0.05541565,  0.01460429, -0.00451844, -0.04302831,\n",
       "        0.01515509, -0.03478996, -0.0591285 , -0.01954735, -0.02213247,\n",
       "       -0.0305799 , -0.04605798, -0.11795374, -0.00148901, -0.01395917,\n",
       "        0.01840812, -0.02118282, -0.05107199,  0.03552783,  0.07100148,\n",
       "        0.05289863, -0.01372218,  0.01974634, -0.02236735,  0.06317852,\n",
       "       -0.0223579 , -0.10702348,  0.08129429, -0.02659442, -0.04014803,\n",
       "        0.02694385,  0.01968933,  0.00190103, -0.03060269, -0.02989491,\n",
       "       -0.06229573, -0.00335177, -0.02985294, -0.00467016,  0.00664969,\n",
       "       -0.07888909,  0.04751356, -0.01701034, -0.08474612, -0.01290622,\n",
       "       -0.0310165 , -0.00379519, -0.01269579,  0.00479306,  0.03842088,\n",
       "        0.0115279 , -0.05321871,  0.06470627,  0.00122952, -0.03627041,\n",
       "       -0.04136675, -0.00369618,  0.08480741, -0.02039044,  0.09488145,\n",
       "       -0.10430087,  0.02022019, -0.01013389, -0.03488074,  0.00605017,\n",
       "        0.02033514, -0.00325071,  0.0203271 ,  0.05132734, -0.07299752,\n",
       "        0.01491171,  0.07086617,  0.05860543, -0.01688418,  0.01119707,\n",
       "       -0.02021603,  0.11633379,  0.02470852, -0.00922546, -0.0080613 ,\n",
       "        0.01558223,  0.06092943, -0.05631137,  0.01925077, -0.02918378,\n",
       "       -0.07267915,  0.01305356, -0.05244472, -0.0147349 , -0.07928485,\n",
       "       -0.01830808,  0.02962834, -0.06280436, -0.00964908,  0.05919313,\n",
       "       -0.10424545,  0.02413976, -0.00880209, -0.02645007,  0.00789763],\n",
       "      dtype=float32)"
      ]
     },
     "execution_count": 13,
     "metadata": {},
     "output_type": "execute_result"
    }
   ],
   "source": [
    "model.get_word_vector('I am a man.')"
   ]
  },
  {
   "cell_type": "code",
   "execution_count": 12,
   "id": "5e7175be",
   "metadata": {},
   "outputs": [
    {
     "data": {
      "text/plain": [
       "array([ 0.13368388,  0.16723448, -0.19282673, -0.22463043,  0.003288  ,\n",
       "        0.07603691, -0.25268188, -0.13354711, -0.19061351, -0.21470772,\n",
       "       -0.27539203, -0.01667088,  0.03097813,  0.00724745,  0.46637353,\n",
       "        0.01820259, -0.23130117, -0.46049795, -0.1419974 ,  0.36595532,\n",
       "        0.01585658, -0.20899983,  0.12313581, -0.2122161 , -0.0675602 ,\n",
       "        0.18826407, -0.6101543 ,  0.19386323, -0.01570185, -0.20840509,\n",
       "       -0.13756858,  0.05380087, -0.20889989, -0.05851411,  0.28689906,\n",
       "       -0.09358108,  0.01333833, -0.16564387,  0.25764343,  0.00386833,\n",
       "       -0.11494599, -0.02058365, -0.11000228,  0.02697934, -0.13233414,\n",
       "       -0.1463216 , -0.04306844,  0.17780767,  0.10540187, -0.10935166,\n",
       "       -0.05242671,  0.08124124, -0.01462856,  0.10538583, -0.05730271,\n",
       "        0.11313155, -0.255569  ,  0.10904928, -0.3125328 ,  0.3347795 ,\n",
       "       -0.2936529 ,  0.25424832,  0.27167812,  0.10287657,  0.18155251,\n",
       "        0.15492368, -0.2505388 , -0.11726322, -0.25859648,  0.16701019,\n",
       "        0.21866606,  0.00395049,  0.29316595,  0.23253775, -0.23891406,\n",
       "        0.28392527,  0.12101498,  0.07257715,  0.21387957, -0.12831496,\n",
       "       -0.12848935,  0.00471212, -0.05951895, -0.15157889,  0.2916443 ,\n",
       "       -0.17850028,  0.06011197, -0.26141453,  0.04384754, -0.09417248,\n",
       "       -0.26198864,  0.23963653,  0.08537694,  0.00084417, -0.09266156,\n",
       "       -0.09220573, -0.04845699, -0.3315185 ,  0.05090646, -0.35576105],\n",
       "      dtype=float32)"
      ]
     },
     "execution_count": 12,
     "metadata": {},
     "output_type": "execute_result"
    }
   ],
   "source": [
    "model.get_word_vector('baal')"
   ]
  },
  {
   "cell_type": "code",
   "execution_count": null,
   "id": "d462024c",
   "metadata": {},
   "outputs": [],
   "source": []
  }
 ],
 "metadata": {
  "kernelspec": {
   "display_name": "venv",
   "language": "python",
   "name": "venv"
  },
  "language_info": {
   "codemirror_mode": {
    "name": "ipython",
    "version": 3
   },
   "file_extension": ".py",
   "mimetype": "text/x-python",
   "name": "python",
   "nbconvert_exporter": "python",
   "pygments_lexer": "ipython3",
   "version": "3.10.0"
  }
 },
 "nbformat": 4,
 "nbformat_minor": 5
}
